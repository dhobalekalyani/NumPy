{
 "cells": [
  {
   "cell_type": "code",
   "execution_count": 1,
   "id": "4e17a77d",
   "metadata": {},
   "outputs": [
    {
     "name": "stdout",
     "output_type": "stream",
     "text": [
      "[0. 0. 0. 0. 1. 0. 0. 0. 0. 0.]\n"
     ]
    }
   ],
   "source": [
    "#Create a null vector of size 10 but the fifth value which is 1.\n",
    "import numpy as np\n",
    "\n",
    "null_vector = np.zeros(10)\n",
    "null_vector[4] = 1\n",
    "print(null_vector)\n"
   ]
  },
  {
   "cell_type": "code",
   "execution_count": 2,
   "id": "67feab01",
   "metadata": {},
   "outputs": [
    {
     "name": "stdout",
     "output_type": "stream",
     "text": [
      "[10 11 12 13 14 15 16 17 18 19 20 21 22 23 24 25 26 27 28 29 30 31 32 33\n",
      " 34 35 36 37 38 39 40 41 42 43 44 45 46 47 48 49]\n"
     ]
    }
   ],
   "source": [
    " #Create a vector with values ranging from 10 to 49.\n",
    "\n",
    "import numpy as np\n",
    "vector_10_to_49 = np.arange(10, 50)\n",
    "print(vector_10_to_49)\n"
   ]
  },
  {
   "cell_type": "code",
   "execution_count": 3,
   "id": "2eed8a16",
   "metadata": {},
   "outputs": [
    {
     "name": "stdout",
     "output_type": "stream",
     "text": [
      "[[0 1 2]\n",
      " [3 4 5]\n",
      " [6 7 8]]\n"
     ]
    }
   ],
   "source": [
    "#Create a 3x3 matrix with values ranging from 0 to 8\n",
    "import numpy as np\n",
    "matrix_3x3 = np.arange(9).reshape(3, 3)\n",
    "print(matrix_3x3)\n"
   ]
  },
  {
   "cell_type": "code",
   "execution_count": 4,
   "id": "21e8f3a7",
   "metadata": {},
   "outputs": [
    {
     "name": "stdout",
     "output_type": "stream",
     "text": [
      "(array([0, 1, 4], dtype=int64),)\n"
     ]
    }
   ],
   "source": [
    "#Find indices of non-zero elements from [1,2,0,0,4,0]\n",
    "import numpy as np\n",
    "arr = np.array([1, 2, 0, 0, 4, 0])\n",
    "non_zero_indices = np.nonzero(arr)\n",
    "print(non_zero_indices)\n"
   ]
  },
  {
   "cell_type": "code",
   "execution_count": 5,
   "id": "95fd47a5",
   "metadata": {},
   "outputs": [
    {
     "name": "stdout",
     "output_type": "stream",
     "text": [
      "Minimum value: 0.011966786392207274\n",
      "Maximum value: 0.995819813139176\n"
     ]
    }
   ],
   "source": [
    "#Create a 10x10 array with random values and find the minimum and maximum values.\n",
    "import numpy as np\n",
    "random_array = np.random.rand(10, 10)\n",
    "min_value = np.min(random_array)\n",
    "max_value = np.max(random_array)\n",
    "print(\"Minimum value:\", min_value)\n",
    "print(\"Maximum value:\", max_value)\n",
    "\n"
   ]
  },
  {
   "cell_type": "code",
   "execution_count": 6,
   "id": "48c66fc0",
   "metadata": {},
   "outputs": [
    {
     "name": "stdout",
     "output_type": "stream",
     "text": [
      "Random Vector:\n",
      "[0.69751198 0.9880473  0.81463407 0.04179691 0.05415166 0.60730483\n",
      " 0.61212058 0.77483437 0.70457376 0.86427642 0.87337646 0.14984428\n",
      " 0.8948836  0.3110886  0.17058955 0.28014438 0.57508939 0.20589873\n",
      " 0.34805591 0.15409371 0.30995173 0.30902704 0.91346586 0.75366325\n",
      " 0.57402309 0.39348426 0.47371458 0.91488738 0.68991709 0.13571452]\n",
      "\n",
      "Mean value: 0.519672175305749\n"
     ]
    }
   ],
   "source": [
    "#Create a random vector of size 30 and find the mean value.\n",
    "import numpy as np\n",
    "random_vector = np.random.rand(30)\n",
    "mean_value = np.mean(random_vector)\n",
    "print(\"Random Vector:\")\n",
    "print(random_vector)\n",
    "print(\"\\nMean value:\", mean_value)\n"
   ]
  },
  {
   "cell_type": "code",
   "execution_count": null,
   "id": "8e7e8f45",
   "metadata": {},
   "outputs": [],
   "source": []
  }
 ],
 "metadata": {
  "kernelspec": {
   "display_name": "Python 3 (ipykernel)",
   "language": "python",
   "name": "python3"
  },
  "language_info": {
   "codemirror_mode": {
    "name": "ipython",
    "version": 3
   },
   "file_extension": ".py",
   "mimetype": "text/x-python",
   "name": "python",
   "nbconvert_exporter": "python",
   "pygments_lexer": "ipython3",
   "version": "3.9.13"
  }
 },
 "nbformat": 4,
 "nbformat_minor": 5
}
